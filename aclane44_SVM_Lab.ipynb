{
  "nbformat": 4,
  "nbformat_minor": 0,
  "metadata": {
    "colab": {
      "provenance": []
    },
    "kernelspec": {
      "name": "python3",
      "display_name": "Python 3"
    },
    "language_info": {
      "name": "python"
    }
  },
  "cells": [
    {
      "cell_type": "markdown",
      "source": [
        "# Step 1, Load Data\n",
        "Importing neccessary libraries and loading data for future use"
      ],
      "metadata": {
        "id": "y3aR2L_n24q_"
      }
    },
    {
      "cell_type": "code",
      "execution_count": null,
      "metadata": {
        "id": "PiC-s4vYDA1Y"
      },
      "outputs": [],
      "source": [
        "import numpy as np\n",
        "import matplotlib.pyplot as plt\n",
        "from scipy import stats\n",
        "import seaborn as sns; sns.set()\n",
        "from ipywidgets import interact, fixed\n",
        "\n",
        "import pandas as pd\n",
        "from sklearn.model_selection import RepeatedKFold, RandomizedSearchCV\n",
        "from sklearn.metrics import classification_report"
      ]
    },
    {
      "cell_type": "code",
      "source": [
        "data = pd.read_csv('Dataset.csv')\n",
        "data = data.to_numpy()\n",
        "print(data)\n",
        "print(data.shape)"
      ],
      "metadata": {
        "colab": {
          "base_uri": "https://localhost:8080/"
        },
        "id": "4xsHo-MREHav",
        "outputId": "87139f84-d326-41df-a9b8-587cc3b01f50"
      },
      "execution_count": null,
      "outputs": [
        {
          "output_type": "stream",
          "name": "stdout",
          "text": [
            "[[-0.15899   0.42398   1.        0.       -0.35306  -0.6739  ]\n",
            " [-0.34793   0.47076   1.        1.       -0.22713   0.44732 ]\n",
            " [-0.50461   0.3538    1.        0.        0.092898 -0.75352 ]\n",
            " ...\n",
            " [-0.31694  -0.22895   1.             nan       nan       nan]\n",
            " [-0.29412  -0.13479   0.             nan       nan       nan]\n",
            " [-0.15311   0.1845    0.             nan       nan       nan]]\n",
            "(211, 6)\n"
          ]
        }
      ]
    },
    {
      "cell_type": "code",
      "source": [
        "X_train = data[: , :2]\n",
        "y_train = data[:, 2]\n",
        "\n",
        "X_test = data[:200, 4:6]\n",
        "y_test = data[:200, 3]\n",
        "print(\"X train: \",X_train[:5])\n",
        "print(\"Y train: \", y_train[:5])\n",
        "print(\"X test: \", X_test[:5])\n",
        "print(\"y test: \", y_test[:5])"
      ],
      "metadata": {
        "colab": {
          "base_uri": "https://localhost:8080/"
        },
        "id": "xITbvs0EJZ8H",
        "outputId": "f7094866-c3b5-417a-9110-8c687362960e"
      },
      "execution_count": null,
      "outputs": [
        {
          "output_type": "stream",
          "name": "stdout",
          "text": [
            "X train:  [[-0.15899  0.42398]\n",
            " [-0.34793  0.47076]\n",
            " [-0.50461  0.3538 ]\n",
            " [-0.59677  0.11403]\n",
            " [-0.51843 -0.17252]]\n",
            "Y train:  [1. 1. 1. 1. 1.]\n",
            "X test:  [[-0.35306   -0.6739   ]\n",
            " [-0.22713    0.44732  ]\n",
            " [ 0.092898  -0.75352  ]\n",
            " [ 0.14824   -0.71847  ]\n",
            " [-0.0015125  0.16293  ]]\n",
            "y test:  [0. 1. 0. 0. 0.]\n"
          ]
        }
      ]
    },
    {
      "cell_type": "markdown",
      "source": [
        "Implementing plotting functions for future use"
      ],
      "metadata": {
        "id": "DOb8NGwV3DiK"
      }
    },
    {
      "cell_type": "code",
      "source": [
        "def plotData(data, label_x, label_y, label_pos, label_neg, axes=None):\n",
        "    # Get indexes for class 0 and class 1\n",
        "    neg = data[:,2] == 0\n",
        "    pos = data[:,2] == 1\n",
        "    # If no specific axes object has been passed, get the current axes.\n",
        "    if axes == None:\n",
        "        axes = plt.gca()\n",
        "    axes.scatter(data[pos][:,0], data[pos][:,1], marker='+', c='k', s=60, linewidth=2, label=label_pos)\n",
        "    axes.scatter(data[neg][:,0], data[neg][:,1], c='y', s=60, label=label_neg)\n",
        "    axes.set_xlabel(label_x)\n",
        "    axes.set_ylabel(label_y)\n",
        "    axes.legend(frameon= True, fancybox = True);"
      ],
      "metadata": {
        "id": "yOB1XI39KWlG"
      },
      "execution_count": null,
      "outputs": []
    },
    {
      "cell_type": "code",
      "source": [
        "def plot_svc_decision_function(model, ax=None, plot_support=True):\n",
        "    \"\"\"Plot the decision function for a 2D SVC\"\"\"\n",
        "    if ax is None:\n",
        "        ax = plt.gca() #create a new axis if there is no axis in the fig.\n",
        "    xlim = ax.get_xlim() #if there is an axis, get the x-axis limit\n",
        "    ylim = ax.get_ylim() #if there is an axis, get the x-axis limit\n",
        "\n",
        "    # create grid to evaluate model\n",
        "    x = np.linspace(xlim[0], xlim[1], 30)\n",
        "    y = np.linspace(ylim[0], ylim[1], 30)\n",
        "    Y, X = np.meshgrid(y, x)\n",
        "    xy = np.vstack([X.ravel(), Y.ravel()]).T\n",
        "    P = model.decision_function(xy).reshape(X.shape) #Evaluate the decision function for the samples in xy.\n",
        "\n",
        "    # plot decision boundary and margins\n",
        "    ax.contour(X, Y, P, colors='k',\n",
        "               levels=[-1, 0, 1], alpha=0.5,\n",
        "               linestyles=['--', '-', '--'])\n",
        "\n",
        "    # plot support vectors\n",
        "    if plot_support:\n",
        "        ax.scatter(model.support_vectors_[:, 0],\n",
        "                   model.support_vectors_[:, 1],\n",
        "                   s=300, linewidth=1, facecolors='none');\n",
        "    ax.set_xlim(xlim)\n",
        "    ax.set_ylim(ylim)"
      ],
      "metadata": {
        "id": "qdlh0YRebCb9"
      },
      "execution_count": null,
      "outputs": []
    },
    {
      "cell_type": "code",
      "source": [
        "plotData(data[:, :3], \"X\", \"Y\", \"class positve\", \"class negative\")"
      ],
      "metadata": {
        "colab": {
          "base_uri": "https://localhost:8080/",
          "height": 285
        },
        "id": "aNE7qYTwK74K",
        "outputId": "9504ae1a-0528-405e-83d0-83c8a40b422d"
      },
      "execution_count": null,
      "outputs": [
        {
          "output_type": "display_data",
          "data": {
            "text/plain": [
              "<Figure size 432x288 with 1 Axes>"
            ],
            "image/png": "[encoded data removed]"
          },
          "metadata": {}
        }
      ]
    },
    {
      "cell_type": "markdown",
      "source": [
        "**Can a linear SVC be used to classify this data?**\n",
        "Yes, when looking at the graph it appears that the data is mostly linearly seperable. However, it would not be a perfect separation. as there are a few outliers."
      ],
      "metadata": {
        "id": "SBiVoBzj3YLW"
      }
    },
    {
      "cell_type": "markdown",
      "source": [
        "# SVM Train and Hyperparameter Optimization\n",
        "In this section I will be training the dataset, as well as finding the optimal hyperparameters."
      ],
      "metadata": {
        "id": "AcKyQ28_5B9l"
      }
    },
    {
      "cell_type": "markdown",
      "source": [
        "First, I'll make the SVC model"
      ],
      "metadata": {
        "id": "bxWeyJxR5PPd"
      }
    },
    {
      "cell_type": "code",
      "source": [
        "from sklearn.svm import SVC # \"Support vector classifier\"\n",
        "model = SVC()"
      ],
      "metadata": {
        "id": "VQlqbU2iLCJb"
      },
      "execution_count": null,
      "outputs": []
    },
    {
      "cell_type": "markdown",
      "source": [
        "Here I am using RepeatedKFold to create cross validation data using the training data."
      ],
      "metadata": {
        "id": "gSvEYhjK5TFv"
      }
    },
    {
      "cell_type": "code",
      "source": [
        "cv = RepeatedKFold(n_splits = 5, n_repeats = 3, random_state = 1)\n",
        "cv.get_n_splits(X_train, X_test)"
      ],
      "metadata": {
        "colab": {
          "base_uri": "https://localhost:8080/"
        },
        "id": "1aHoc8eiL6bg",
        "outputId": "0cb6c06f-7f6e-409f-f3d2-3f8f30ce0e65"
      },
      "execution_count": null,
      "outputs": [
        {
          "output_type": "execute_result",
          "data": {
            "text/plain": [
              "15"
            ]
          },
          "metadata": {},
          "execution_count": 8
        }
      ]
    },
    {
      "cell_type": "markdown",
      "source": [
        "Creating the search space for tuned parameters."
      ],
      "metadata": {
        "id": "sRavtHKq5gFt"
      }
    },
    {
      "cell_type": "code",
      "source": [
        "tuned_parameters = [\n",
        "    {\"kernel\": [\"rbf\"], \"gamma\": [1e-3, 1e-4], \"C\": [1, 10, 100, 1000]},\n",
        "    {\"kernel\": [\"linear\"], \"C\": [1, 10, 100, 1000]},\n",
        "]"
      ],
      "metadata": {
        "id": "Uz3xiHkAMdSB"
      },
      "execution_count": null,
      "outputs": []
    },
    {
      "cell_type": "code",
      "source": [
        "search = RandomizedSearchCV(model, tuned_parameters, n_iter = 16, scoring = 'accuracy', cv = cv, random_state = 1)"
      ],
      "metadata": {
        "id": "RtlfeBVRNw3r"
      },
      "execution_count": null,
      "outputs": []
    },
    {
      "cell_type": "markdown",
      "source": [
        "Fitting the data finally."
      ],
      "metadata": {
        "id": "nLk472o15mrd"
      }
    },
    {
      "cell_type": "code",
      "source": [
        "initial_search = search.fit(X_train, y_train)"
      ],
      "metadata": {
        "colab": {
          "base_uri": "https://localhost:8080/"
        },
        "id": "LxH3RmCoZWlr",
        "outputId": "8be801df-c9e5-4a37-f1d5-430e6e4a7ca2"
      },
      "execution_count": null,
      "outputs": [
        {
          "output_type": "stream",
          "name": "stderr",
          "text": [
            "/usr/local/lib/python3.9/dist-packages/sklearn/model_selection/_search.py:305: UserWarning: The total space of parameters 12 is smaller than n_iter=16. Running 12 iterations. For exhaustive searches, use GridSearchCV.\n",
            "  warnings.warn(\n"
          ]
        }
      ]
    },
    {
      "cell_type": "code",
      "source": [
        "print('Best Score: %s' % initial_search.best_score_)\n",
        "print('Best Hyperparameters: %s' % initial_search.best_params_)"
      ],
      "metadata": {
        "colab": {
          "base_uri": "https://localhost:8080/"
        },
        "id": "R30wSS4TZtpI",
        "outputId": "85e8bafc-3746-45cb-9c7b-3348cbd71aa0"
      },
      "execution_count": null,
      "outputs": [
        {
          "output_type": "stream",
          "name": "stdout",
          "text": [
            "Best Score: 0.9225913621262459\n",
            "Best Hyperparameters: {'kernel': 'linear', 'C': 10}\n"
          ]
        }
      ]
    },
    {
      "cell_type": "markdown",
      "source": [
        "**What is the optimal kernel function and C value?**\n",
        "\n",
        "Kernel: linear\n",
        "C value: 10\n",
        "\n",
        "**Do these choices make sense?**\n",
        "\n",
        "The kernel being linear makes sense as the data is linearly seperable, and the C value makes sense as the accuracy is very high."
      ],
      "metadata": {
        "id": "bU5BnGb36U_d"
      }
    },
    {
      "cell_type": "markdown",
      "source": [
        "# Retraining\n",
        "Here I am retraining using information from old labs."
      ],
      "metadata": {
        "id": "vYyXU_zl61nN"
      }
    },
    {
      "cell_type": "code",
      "source": [
        "clf = SVC(kernel='linear', C=10)\n",
        "clf.fit(X_train, y_train)"
      ],
      "metadata": {
        "colab": {
          "base_uri": "https://localhost:8080/",
          "height": 74
        },
        "id": "PdjGtYp7aPsF",
        "outputId": "b61f9467-17c8-4be2-a2f6-705b3b4272e1"
      },
      "execution_count": null,
      "outputs": [
        {
          "output_type": "execute_result",
          "data": {
            "text/plain": [
              "SVC(C=10, kernel='linear')"
            ],
            "text/html": [
              "<style>#sk-container-id-1 {color: black;background-color: white;}#sk-container-id-1 pre{padding: 0;}#sk-container-id-1 div.sk-toggleable {background-color: white;}#sk-container-id-1 label.sk-toggleable__label {cursor: pointer;display: block;width: 100%;margin-bottom: 0;padding: 0.3em;box-sizing: border-box;text-align: center;}#sk-container-id-1 label.sk-toggleable__label-arrow:before {content: \"▸\";float: left;margin-right: 0.25em;color: #696969;}#sk-container-id-1 label.sk-toggleable__label-arrow:hover:before {color: black;}#sk-container-id-1 div.sk-estimator:hover label.sk-toggleable__label-arrow:before {color: black;}#sk-container-id-1 div.sk-toggleable__content {max-height: 0;max-width: 0;overflow: hidden;text-align: left;background-color: #f0f8ff;}#sk-container-id-1 div.sk-toggleable__content pre {margin: 0.2em;color: black;border-radius: 0.25em;background-color: #f0f8ff;}#sk-container-id-1 input.sk-toggleable__control:checked~div.sk-toggleable__content {max-height: 200px;max-width: 100%;overflow: auto;}#sk-container-id-1 input.sk-toggleable__control:checked~label.sk-toggleable__label-arrow:before {content: \"▾\";}#sk-container-id-1 div.sk-estimator input.sk-toggleable__control:checked~label.sk-toggleable__label {background-color: #d4ebff;}#sk-container-id-1 div.sk-label input.sk-toggleable__control:checked~label.sk-toggleable__label {background-color: #d4ebff;}#sk-container-id-1 input.sk-hidden--visually {border: 0;clip: rect(1px 1px 1px 1px);clip: rect(1px, 1px, 1px, 1px);height: 1px;margin: -1px;overflow: hidden;padding: 0;position: absolute;width: 1px;}#sk-container-id-1 div.sk-estimator {font-family: monospace;background-color: #f0f8ff;border: 1px dotted black;border-radius: 0.25em;box-sizing: border-box;margin-bottom: 0.5em;}#sk-container-id-1 div.sk-estimator:hover {background-color: #d4ebff;}#sk-container-id-1 div.sk-parallel-item::after {content: \"\";width: 100%;border-bottom: 1px solid gray;flex-grow: 1;}#sk-container-id-1 div.sk-label:hover label.sk-toggleable__label {background-color: #d4ebff;}#sk-container-id-1 div.sk-serial::before {content: \"\";position: absolute;border-left: 1px solid gray;box-sizing: border-box;top: 0;bottom: 0;left: 50%;z-index: 0;}#sk-container-id-1 div.sk-serial {display: flex;flex-direction: column;align-items: center;background-color: white;padding-right: 0.2em;padding-left: 0.2em;position: relative;}#sk-container-id-1 div.sk-item {position: relative;z-index: 1;}#sk-container-id-1 div.sk-parallel {display: flex;align-items: stretch;justify-content: center;background-color: white;position: relative;}#sk-container-id-1 div.sk-item::before, #sk-container-id-1 div.sk-parallel-item::before {content: \"\";position: absolute;border-left: 1px solid gray;box-sizing: border-box;top: 0;bottom: 0;left: 50%;z-index: -1;}#sk-container-id-1 div.sk-parallel-item {display: flex;flex-direction: column;z-index: 1;position: relative;background-color: white;}#sk-container-id-1 div.sk-parallel-item:first-child::after {align-self: flex-end;width: 50%;}#sk-container-id-1 div.sk-parallel-item:last-child::after {align-self: flex-start;width: 50%;}#sk-container-id-1 div.sk-parallel-item:only-child::after {width: 0;}#sk-container-id-1 div.sk-dashed-wrapped {border: 1px dashed gray;margin: 0 0.4em 0.5em 0.4em;box-sizing: border-box;padding-bottom: 0.4em;background-color: white;}#sk-container-id-1 div.sk-label label {font-family: monospace;font-weight: bold;display: inline-block;line-height: 1.2em;}#sk-container-id-1 div.sk-label-container {text-align: center;}#sk-container-id-1 div.sk-container {/* jupyter's `normalize.less` sets `[hidden] { display: none; }` but bootstrap.min.css set `[hidden] { display: none !important; }` so we also need the `!important` here to be able to override the default hidden behavior on the sphinx rendered scikit-learn.org. See: https://github.com/scikit-learn/scikit-learn/issues/21755 */display: inline-block !important;position: relative;}#sk-container-id-1 div.sk-text-repr-fallback {display: none;}</style><div id=\"sk-container-id-1\" class=\"sk-top-container\"><div class=\"sk-text-repr-fallback\"><pre>SVC(C=10, kernel=&#x27;linear&#x27;)</pre><b>In a Jupyter environment, please rerun this cell to show the HTML representation or trust the notebook. <br />On GitHub, the HTML representation is unable to render, please try loading this page with nbviewer.org.</b></div><div class=\"sk-container\" hidden><div class=\"sk-item\"><div class=\"sk-estimator sk-toggleable\"><input class=\"sk-toggleable__control sk-hidden--visually\" id=\"sk-estimator-id-1\" type=\"checkbox\" checked><label for=\"sk-estimator-id-1\" class=\"sk-toggleable__label sk-toggleable__label-arrow\">SVC</label><div class=\"sk-toggleable__content\"><pre>SVC(C=10, kernel=&#x27;linear&#x27;)</pre></div></div></div></div></div>"
            ]
          },
          "metadata": {},
          "execution_count": 13
        }
      ]
    },
    {
      "cell_type": "code",
      "source": [
        "plt.scatter(X_train[:, 0], X_train[:, 1], c=y_train, s=50, cmap='autumn')\n",
        "plot_svc_decision_function(clf)\n",
        "plt.scatter(clf.support_vectors_[:, 0], clf.support_vectors_[:, 1],\n",
        "            s=300, lw=1, facecolors='none');"
      ],
      "metadata": {
        "colab": {
          "base_uri": "https://localhost:8080/",
          "height": 268
        },
        "id": "uDXEjrf6axKI",
        "outputId": "f3d7f64e-d498-445c-b2f9-2519f72623ef"
      },
      "execution_count": null,
      "outputs": [
        {
          "output_type": "display_data",
          "data": {
            "text/plain": [
              "<Figure size 432x288 with 1 Axes>"
            ],
            "image/png": "[encoded data removed]"
          },
          "metadata": {}
        }
      ]
    },
    {
      "cell_type": "code",
      "source": [
        "y_pred = clf.predict(X_test)\n",
        "y_pred"
      ],
      "metadata": {
        "colab": {
          "base_uri": "https://localhost:8080/"
        },
        "id": "7vQ5k861bex4",
        "outputId": "9c10d41c-006e-4606-f2b0-ebb02fd15427"
      },
      "execution_count": null,
      "outputs": [
        {
          "output_type": "execute_result",
          "data": {
            "text/plain": [
              "array([0., 1., 0., 0., 0., 0., 0., 1., 1., 1., 0., 1., 0., 0., 1., 0., 0.,\n",
              "       1., 0., 0., 0., 0., 0., 1., 0., 0., 0., 0., 1., 0., 0., 0., 0., 0.,\n",
              "       1., 1., 1., 0., 0., 0., 0., 1., 0., 1., 0., 1., 1., 0., 0., 1., 0.,\n",
              "       0., 1., 1., 1., 1., 0., 1., 1., 0., 0., 0., 0., 1., 0., 1., 1., 1.,\n",
              "       1., 1., 1., 1., 0., 1., 0., 1., 0., 0., 0., 0., 0., 0., 0., 1., 0.,\n",
              "       0., 1., 1., 0., 0., 0., 1., 1., 1., 1., 0., 1., 1., 0., 0., 1., 1.,\n",
              "       0., 1., 0., 1., 1., 1., 1., 0., 1., 1., 0., 1., 0., 1., 0., 1., 0.,\n",
              "       0., 0., 0., 0., 0., 0., 0., 0., 1., 1., 1., 1., 0., 1., 0., 1., 0.,\n",
              "       0., 0., 1., 1., 0., 0., 0., 0., 0., 0., 1., 0., 0., 1., 0., 1., 1.,\n",
              "       0., 0., 1., 0., 0., 1., 0., 1., 0., 1., 0., 0., 0., 0., 0., 1., 1.,\n",
              "       0., 0., 0., 0., 1., 0., 0., 0., 0., 1., 0., 0., 1., 1., 1., 0., 0.,\n",
              "       1., 0., 1., 0., 0., 1., 1., 1., 0., 0., 0., 0., 0.])"
            ]
          },
          "metadata": {},
          "execution_count": 15
        }
      ]
    },
    {
      "cell_type": "code",
      "source": [
        "print(classification_report(y_test, y_pred))"
      ],
      "metadata": {
        "colab": {
          "base_uri": "https://localhost:8080/"
        },
        "id": "9-XVqo1Qc9sv",
        "outputId": "f99beee3-2389-4a0c-c71e-0a349c60be26"
      },
      "execution_count": null,
      "outputs": [
        {
          "output_type": "stream",
          "name": "stdout",
          "text": [
            "              precision    recall  f1-score   support\n",
            "\n",
            "         0.0       0.92      0.96      0.94       113\n",
            "         1.0       0.95      0.90      0.92        87\n",
            "\n",
            "    accuracy                           0.94       200\n",
            "   macro avg       0.94      0.93      0.93       200\n",
            "weighted avg       0.94      0.94      0.93       200\n",
            "\n"
          ]
        }
      ]
    },
    {
      "cell_type": "markdown",
      "source": [
        "**Performance**\n",
        "\n",
        "The model performed very well, as the precision is at 92% and an F1 score of 94%. The model does well in indentifying both positive and negative cases."
      ],
      "metadata": {
        "id": "GEvjdJQW6-tC"
      }
    }
  ]
}